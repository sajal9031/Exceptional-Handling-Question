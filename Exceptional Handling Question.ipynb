{
 "cells": [
  {
   "cell_type": "markdown",
   "id": "99e060c8-3b0f-4dbd-86e1-c1a1cba198bd",
   "metadata": {},
   "source": [
    "1.)  What is an exception in python? Write the differene between Exeptions and syntax errors."
   ]
  },
  {
   "cell_type": "markdown",
   "id": "c0853862-e104-4231-a3e0-cddb8e00628f",
   "metadata": {},
   "source": [
    "An exception in Python is an error that occurs during the execution of a program. When an error occurs, an exception object is created, which contains information about the error, including its type and a traceback of the code that caused the error.\n",
    "\n",
    "\n",
    "Exceptions can occur for many reasons, including when a program tries to access a resource that is unavailable, when a program tries to divide by zero, or when a program tries to perform an operation on incompatible data types.\n",
    "\n",
    "Syntax errors, on the other hand, occur when a program violates the rules of the Python language. These errors occur during the parsing stage of the program, before it is executed. Common syntax errors include misspelled keywords, missing or incorrect punctuation, and incorrect indentation.\n",
    "\n",
    "\n",
    "\n",
    "The main difference between exceptions and syntax errors is that exceptions occur during program execution, while syntax errors occur during the parsing stage before execution. Exceptions are usually caused by runtime errors or unexpected behavior, while syntax errors are usually caused by incorrect syntax or structure of the code."
   ]
  },
  {
   "cell_type": "code",
   "execution_count": null,
   "id": "1f24864b-84a3-4264-ae50-72917254dfd1",
   "metadata": {},
   "outputs": [],
   "source": []
  },
  {
   "cell_type": "markdown",
   "id": "3341f89f-dd2b-4b76-9ace-564badb279ef",
   "metadata": {},
   "source": [
    "2.) What happens when an exception is not handled? Explain with an example."
   ]
  },
  {
   "cell_type": "markdown",
   "id": "8af3aded-6468-4b33-9918-387847e1d74a",
   "metadata": {},
   "source": [
    "\n",
    "When an exception is not handled in a Python program, the program terminates immediately and an error message is printed to the console. This can cause data loss and unexpected behavior, as the program may not have had a chance to properly close files or clean up resources before terminating."
   ]
  },
  {
   "cell_type": "code",
   "execution_count": 1,
   "id": "9224abf9-32cf-4b92-914e-db020883aa72",
   "metadata": {},
   "outputs": [
    {
     "ename": "ZeroDivisionError",
     "evalue": "division by zero",
     "output_type": "error",
     "traceback": [
      "\u001b[0;31m---------------------------------------------------------------------------\u001b[0m",
      "\u001b[0;31mZeroDivisionError\u001b[0m                         Traceback (most recent call last)",
      "Cell \u001b[0;32mIn[1], line 7\u001b[0m\n\u001b[1;32m      5\u001b[0m a \u001b[38;5;241m=\u001b[39m \u001b[38;5;241m10\u001b[39m\n\u001b[1;32m      6\u001b[0m b \u001b[38;5;241m=\u001b[39m \u001b[38;5;241m0\u001b[39m\n\u001b[0;32m----> 7\u001b[0m result \u001b[38;5;241m=\u001b[39m \u001b[43mdivide\u001b[49m\u001b[43m(\u001b[49m\u001b[43ma\u001b[49m\u001b[43m,\u001b[49m\u001b[43m \u001b[49m\u001b[43mb\u001b[49m\u001b[43m)\u001b[49m\n\u001b[1;32m      8\u001b[0m \u001b[38;5;28mprint\u001b[39m(result)\n",
      "Cell \u001b[0;32mIn[1], line 2\u001b[0m, in \u001b[0;36mdivide\u001b[0;34m(a, b)\u001b[0m\n\u001b[1;32m      1\u001b[0m \u001b[38;5;28;01mdef\u001b[39;00m \u001b[38;5;21mdivide\u001b[39m(a, b):\n\u001b[0;32m----> 2\u001b[0m     result \u001b[38;5;241m=\u001b[39m \u001b[43ma\u001b[49m\u001b[43m \u001b[49m\u001b[38;5;241;43m/\u001b[39;49m\u001b[43m \u001b[49m\u001b[43mb\u001b[49m\n\u001b[1;32m      3\u001b[0m     \u001b[38;5;28;01mreturn\u001b[39;00m result\n",
      "\u001b[0;31mZeroDivisionError\u001b[0m: division by zero"
     ]
    }
   ],
   "source": [
    "def divide(a, b):\n",
    "    result = a / b\n",
    "    return result\n",
    "\n",
    "a = 10\n",
    "b = 0\n",
    "result = divide(a, b)\n",
    "print(result)"
   ]
  },
  {
   "cell_type": "markdown",
   "id": "dfbda58e-2758-498e-85f3-975afe3ba29b",
   "metadata": {},
   "source": [
    "In this example, the divide() function tries to divide a by b, which is 0. This will raise a ZeroDivisionError exception, since division by zero is not allowed. However, there is no exception handling code to handle this error, so the program will terminate immediately and print the following error message to the console:"
   ]
  },
  {
   "cell_type": "markdown",
   "id": "3a1027c2-bab2-41aa-81e5-582dd50b37ac",
   "metadata": {},
   "source": [
    " the program terminates without printing the result of the division. If this code was part of a larger program, it could cause unexpected behavior and data loss if the program did not have a chance to properly close files or clean up resources before terminating. Therefore, it is important to always handle exceptions appropriately in Python programs."
   ]
  },
  {
   "cell_type": "markdown",
   "id": "54bab676-66ef-44da-a652-f946e1c43375",
   "metadata": {},
   "source": [
    "so solution of above"
   ]
  },
  {
   "cell_type": "code",
   "execution_count": 3,
   "id": "42ffcde2-35d1-4fdb-8aee-ae588a001707",
   "metadata": {},
   "outputs": [
    {
     "name": "stdout",
     "output_type": "stream",
     "text": [
      "Error: division by zero\n"
     ]
    }
   ],
   "source": [
    "def divide(a, b):\n",
    "    try:\n",
    "        result = a / b\n",
    "    except ZeroDivisionError:\n",
    "        print(\"Error: division by zero\")\n",
    "        result = None\n",
    "    return result\n",
    "\n",
    "a = 10\n",
    "b = 0\n",
    "result = divide(a, b)\n",
    "if result is not None:\n",
    "    print(result)"
   ]
  },
  {
   "cell_type": "code",
   "execution_count": null,
   "id": "3d739570-be6d-4104-90a3-86501f884378",
   "metadata": {},
   "outputs": [],
   "source": []
  },
  {
   "cell_type": "code",
   "execution_count": null,
   "id": "8a13a225-33c0-4b6e-8da3-3e1263a49f31",
   "metadata": {},
   "outputs": [],
   "source": []
  },
  {
   "cell_type": "markdown",
   "id": "c2279181-d2c6-44ce-b086-e061cab49de9",
   "metadata": {},
   "source": [
    "3.) Which Python statements are used to handle exceptions? Explain with an example."
   ]
  },
  {
   "cell_type": "markdown",
   "id": "eb4cffff-43d7-49a1-8d04-1dc31c546bd5",
   "metadata": {},
   "source": [
    "In Python, we use the try and except statements to handle exceptions. The try block contains the code that might raise an exception, and the except block contains the code that should be executed if an exception is raised. "
   ]
  },
  {
   "cell_type": "code",
   "execution_count": 4,
   "id": "43488baa-e682-4917-a68f-bd3d70a773a2",
   "metadata": {},
   "outputs": [
    {
     "ename": "IndentationError",
     "evalue": "unexpected indent (3150206963.py, line 2)",
     "output_type": "error",
     "traceback": [
      "\u001b[0;36m  Cell \u001b[0;32mIn[4], line 2\u001b[0;36m\u001b[0m\n\u001b[0;31m    num2 = int(input(\"Enter another number: \"))\u001b[0m\n\u001b[0m    ^\u001b[0m\n\u001b[0;31mIndentationError\u001b[0m\u001b[0;31m:\u001b[0m unexpected indent\n"
     ]
    }
   ],
   "source": [
    "num1 = int(input(\"Enter a number: \"))\n",
    "    num2 = int(input(\"Enter another number: \"))\n",
    "    result = num1 / num2\n",
    "    print(\"The result is:\", result)\n",
    "except ValueError:\n",
    "    print(\"Error: Invalid input. Please enter a number.\")\n",
    "except ZeroDivisionError:\n",
    "    print(\"Error: Division by zero.\")"
   ]
  },
  {
   "cell_type": "markdown",
   "id": "1b07bf57-5dae-4803-aa8f-a38afb8abbb7",
   "metadata": {},
   "source": [
    "In this example, we're asking the user to input two numbers and then attempting to divide them. However, there are two types of exceptions that might be raised:\n",
    "\n",
    "ValueError if the user enters something that is not a number.\n",
    "ZeroDivisionError if the user enters 0 as the second number.\n",
    "To handle these exceptions, we use try/except blocks:\n",
    "\n",
    "The try block contains the code that might raise an exception: asking the user for two numbers, dividing them, and printing the result.\n",
    "The except blocks contain the code that should be executed if an exception is raised: printing an error message indicating the type of error that occurred.\n",
    "If the user enters valid numbers, the program will execute the try block without any exceptions and print the result of the division. If the user enters an invalid input, such as a string or a decimal number, a ValueError exception will be raised and caught by the first except block, which will print an error message indicating that the input was invalid. If the user enters 0 as the second number, a ZeroDivisionError exception will be raised and caught by the second except block, which will print an error message indicating that division by zero is not allowed."
   ]
  },
  {
   "cell_type": "code",
   "execution_count": null,
   "id": "77b2f53f-443a-4530-816a-35c1f4e2dd9f",
   "metadata": {},
   "outputs": [],
   "source": []
  },
  {
   "cell_type": "code",
   "execution_count": null,
   "id": "601ede89-f751-4962-bea2-ec79fb39d520",
   "metadata": {},
   "outputs": [],
   "source": []
  },
  {
   "cell_type": "markdown",
   "id": "08b971c9-cc3e-4806-aff1-59db4c0167d8",
   "metadata": {},
   "source": [
    "4.) Explain with an example:\n",
    "\n",
    "try and else\n",
    "finally\n",
    "raise"
   ]
  },
  {
   "cell_type": "markdown",
   "id": "88c262ad-472e-47b4-9bc4-1d79963e4b7d",
   "metadata": {},
   "source": [
    "try and else are used together to catch and handle exceptions that may occur in a block of code"
   ]
  },
  {
   "cell_type": "code",
   "execution_count": null,
   "id": "3889f3a3-3122-4775-8a35-73a1b097a7ae",
   "metadata": {},
   "outputs": [],
   "source": [
    "try:\n",
    "    # code that may raise an exception\n",
    "except SomeException:\n",
    "    # code to handle the exception\n",
    "else:\n",
    "    # code that will run if no exception was raised"
   ]
  },
  {
   "cell_type": "markdown",
   "id": "586c6bd8-2a4f-4f87-8de8-f0cdd106b5fd",
   "metadata": {},
   "source": [
    "In this code block, the try statement attempts to execute the code block that may raise an exception. If an exception is raised, the except statement is executed to handle the exception. If no exception is raised, the else statement is executed."
   ]
  },
  {
   "cell_type": "markdown",
   "id": "cd093655-d267-4bf8-b080-adb2327875b5",
   "metadata": {},
   "source": [
    "finally is used to specify a block of code that will always be executed, whether an exception was raised or not. "
   ]
  },
  {
   "cell_type": "code",
   "execution_count": 16,
   "id": "322fe67a-09fb-496f-bf43-8aa6a60658ac",
   "metadata": {},
   "outputs": [
    {
     "name": "stdout",
     "output_type": "stream",
     "text": [
      "Cannot divide by zero\n",
      "Execution completed\n"
     ]
    }
   ],
   "source": [
    "try:\n",
    "    x = 10 / 0\n",
    "except ZeroDivisionError:\n",
    "    print(\"Cannot divide by zero\")\n",
    "finally:\n",
    "    print(\"Execution completed\")"
   ]
  },
  {
   "cell_type": "code",
   "execution_count": 6,
   "id": "5c37d1db-fa5b-4975-b4bc-a4cce5698574",
   "metadata": {},
   "outputs": [
    {
     "ename": "IndentationError",
     "evalue": "expected an indented block after 'try' statement on line 1 (1197813081.py, line 2)",
     "output_type": "error",
     "traceback": [
      "\u001b[0;36m  Cell \u001b[0;32mIn[6], line 2\u001b[0;36m\u001b[0m\n\u001b[0;31m    except SomeException:\u001b[0m\n\u001b[0m    ^\u001b[0m\n\u001b[0;31mIndentationError\u001b[0m\u001b[0;31m:\u001b[0m expected an indented block after 'try' statement on line 1\n"
     ]
    }
   ],
   "source": [
    "try:   # code that may raise an exception\n",
    "except SomeException:\n",
    "    # code to handle the exception\n",
    "else:\n",
    "    # code that will run if no exception was raised"
   ]
  },
  {
   "cell_type": "markdown",
   "id": "a3226fa7-00e4-442c-8061-bd74e53f2580",
   "metadata": {},
   "source": [
    "In this code block, the try statement attempts to execute the code block that may raise an exception. If an exception is raised, the except statement is executed to handle the exception. If no exception is raised, the else statement is executed."
   ]
  },
  {
   "cell_type": "code",
   "execution_count": 7,
   "id": "c261bcd9-ec88-487a-89d9-40441e152791",
   "metadata": {},
   "outputs": [
    {
     "name": "stdin",
     "output_type": "stream",
     "text": [
      "Enter a number:  10\n"
     ]
    },
    {
     "name": "stdout",
     "output_type": "stream",
     "text": [
      "Result is: 10.0\n",
      "This will always be executed\n"
     ]
    }
   ],
   "source": [
    "try:\n",
    "    num = int(input(\"Enter a number: \"))\n",
    "    result = 100 / num\n",
    "except ZeroDivisionError:\n",
    "    print(\"Cannot divide by zero\")\n",
    "else:\n",
    "    print(\"Result is:\", result)\n",
    "finally:\n",
    "    print(\"This will always be executed\")"
   ]
  },
  {
   "cell_type": "markdown",
   "id": "5cf7efcc-b613-4d1f-ab27-bb5625a3fa65",
   "metadata": {},
   "source": [
    "In this example, the user is prompted to enter a number, and the program attempts to divide 100 by that number. If the user enters zero, a ZeroDivisionError will be raised, and the program will print \"Cannot divide by zero\". If the user enters a valid number, the program will print the result of the division, and the else block will be executed. The finally block will always be executed, regardless of whether an exception was raised or not."
   ]
  },
  {
   "cell_type": "code",
   "execution_count": null,
   "id": "48241500-000b-4949-affb-b4cb28c54cc5",
   "metadata": {},
   "outputs": [],
   "source": []
  },
  {
   "cell_type": "markdown",
   "id": "004a4288-33d3-43ae-bbfd-3543326823df",
   "metadata": {},
   "source": [
    "5. What are Custom Exceptions in python? Why do we need Custom Exceptions? Explain with an example."
   ]
  },
  {
   "cell_type": "markdown",
   "id": "a2a795f2-b7d7-43c8-ac09-eedf8becc34c",
   "metadata": {},
   "source": [
    "Custom exceptions are user-defined exceptions in Python that are created by inheriting from the built-in Exception class or its subclasses. These exceptions can be used to represent specific errors or exceptional cases that are not covered by the built-in exceptions.\n",
    "\n",
    "We need custom exceptions for several reasons, such as:\n",
    "\n",
    "1.To provide more meaningful error messages: By creating custom exceptions, we can provide error messages that are more specific and informative to the users of our code.\n",
    "\n",
    "2.To simplify exception handling: Custom exceptions can simplify exception handling by grouping related errors under a single exception class.\n",
    "\n",
    "3.To distinguish between different types of errors: Custom exceptions can be used to distinguish between different types of errors and handle them differently."
   ]
  },
  {
   "cell_type": "code",
   "execution_count": 10,
   "id": "36386cdd-6cb7-4b17-9998-895497ccb054",
   "metadata": {},
   "outputs": [
    {
     "name": "stdout",
     "output_type": "stream",
     "text": [
      "Negative number -8 is not allowed\n"
     ]
    }
   ],
   "source": [
    "class NegativeNumberError(Exception):\n",
    "    \"\"\"Exception raised when a negative number is passed\"\"\"\n",
    "\n",
    "    def __init__(self, number):\n",
    "        self.number = number\n",
    "        super().__init__(f\"Negative number {number} is not allowed\")\n",
    "\n",
    "\n",
    "def calculate_square_root(num):\n",
    "    if num < 0:\n",
    "        raise NegativeNumberError(num)\n",
    "    else:\n",
    "        return num ** 0.5\n",
    "\n",
    "\n",
    "try:\n",
    "    result = calculate_square_root(-8)\n",
    "except NegativeNumberError as e:\n",
    "    print(e)\n",
    "else:\n",
    "    print(result)"
   ]
  },
  {
   "cell_type": "markdown",
   "id": "e1bafe59-78fd-4194-9c18-fa271ad7703a",
   "metadata": {},
   "source": [
    "In this example, we define a custom exception class NegativeNumberError that is raised when a negative number is passed to the calculate_square_root function. The NegativeNumberError class inherits from the built-in Exception class and defines an additional attribute number to store the negative number that was passed.\n",
    "\n",
    "In the calculate_square_root function, we raise the NegativeNumberError exception if the input number is negative.\n",
    "\n",
    "In the try block, we call the calculate_square_root function with a negative number, which raises the NegativeNumberError exception. In the except block, we catch the NegativeNumberError exception and print the error message that was defined in the exception class. If the input number is non-negative, the else block is executed, and the square root of the number is returned."
   ]
  },
  {
   "cell_type": "code",
   "execution_count": null,
   "id": "ef58312c-5233-4b07-b291-e5fb2e0b05cb",
   "metadata": {},
   "outputs": [],
   "source": []
  },
  {
   "cell_type": "markdown",
   "id": "d5f29191-7fb0-44e6-86ad-56723c0b46ef",
   "metadata": {},
   "source": [
    "6. Create custom exception class. Use this class to handle an exception."
   ]
  },
  {
   "cell_type": "code",
   "execution_count": 12,
   "id": "85ca0bb0-e6fc-4c71-a882-4477df19a9aa",
   "metadata": {},
   "outputs": [
    {
     "name": "stdout",
     "output_type": "stream",
     "text": [
      "Invalid input: hello\n"
     ]
    }
   ],
   "source": [
    "class InvalidInputError(Exception):\n",
    "    \"\"\"\n",
    "    Exception raised when the input is not valid.\n",
    "    \"\"\"\n",
    "    def __init__(self, input_val):\n",
    "        self.input_val = input_val\n",
    "        super().__init__(f\"Invalid input: {input_val}\")\n",
    "\n",
    "\n",
    "def process_input(input_val):\n",
    "    \"\"\"\n",
    "    Function that processes input and raises an exception if input is not valid.\n",
    "    \"\"\"\n",
    "    if not isinstance(input_val, int):\n",
    "        raise InvalidInputError(input_val)\n",
    "    # processing code goes here\n",
    "\n",
    "\n",
    "# Example usage\n",
    "try:\n",
    "    process_input(\"hello\")\n",
    "except InvalidInputError as e:\n",
    "    print(e)"
   ]
  },
  {
   "cell_type": "markdown",
   "id": "c63cd3b5-6532-48f9-8afe-79849165656a",
   "metadata": {},
   "source": [
    "In this example, we define a custom exception class InvalidInputError that inherits from the built-in Exception class. The InvalidInputError class takes an input value as an argument and defines an error message that includes the input value.\n",
    "\n",
    "We also define a function process_input that processes the input and raises an InvalidInputError exception if the input is not an integer.\n",
    "\n",
    "In the example usage, we call the process_input function with a string input value \"hello\", which is not valid. The process_input function raises an InvalidInputError exception, which we catch in the try block and print the error message using the print statement in the except block."
   ]
  },
  {
   "cell_type": "code",
   "execution_count": null,
   "id": "4955c4ff-fdc5-4fe5-a31c-3d05e0f215b2",
   "metadata": {},
   "outputs": [],
   "source": []
  },
  {
   "cell_type": "code",
   "execution_count": null,
   "id": "94e21715-a57a-4b6a-b5ba-3be72a8f2320",
   "metadata": {},
   "outputs": [],
   "source": []
  },
  {
   "cell_type": "code",
   "execution_count": null,
   "id": "eac0050b-534e-485e-bf2a-5ab490016b39",
   "metadata": {},
   "outputs": [],
   "source": []
  },
  {
   "cell_type": "code",
   "execution_count": null,
   "id": "198aeda5-f13b-4a1e-9b2d-2a65425161c5",
   "metadata": {},
   "outputs": [],
   "source": []
  },
  {
   "cell_type": "code",
   "execution_count": null,
   "id": "035ba138-e938-4993-929c-814659c524e0",
   "metadata": {},
   "outputs": [],
   "source": []
  }
 ],
 "metadata": {
  "kernelspec": {
   "display_name": "Python 3 (ipykernel)",
   "language": "python",
   "name": "python3"
  },
  "language_info": {
   "codemirror_mode": {
    "name": "ipython",
    "version": 3
   },
   "file_extension": ".py",
   "mimetype": "text/x-python",
   "name": "python",
   "nbconvert_exporter": "python",
   "pygments_lexer": "ipython3",
   "version": "3.10.8"
  }
 },
 "nbformat": 4,
 "nbformat_minor": 5
}
